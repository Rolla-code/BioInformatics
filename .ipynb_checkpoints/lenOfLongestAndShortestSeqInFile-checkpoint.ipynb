{
 "cells": [
  {
   "cell_type": "code",
   "execution_count": 6,
   "metadata": {},
   "outputs": [],
   "source": [
    "\"\"\" Finding the length of the longest and shortest sequence in a file \"\"\"\n",
    "\n",
    "    \n",
    "with open('C:/Users/white/Desktop/dUTPaseDBshort.fasta', 'r') as f: #put your path within the braces\n",
    "    data = f.readlines()\n",
    "\n",
    "sequences = []\n",
    "seq = \"\"\n",
    "for f in data:\n",
    "    if not f.startswith('>'):\n",
    "        f = f.replace(\" \", \"\")\n",
    "        f = f.replace(\"\\n\", \"\")\n",
    "        seq = seq + f\n",
    "    else:\n",
    "        sequences.append(seq)\n",
    "        seq = \"\"\n",
    "\n",
    "# Adding the last seq\n",
    "sequences.append(seq)\n",
    "\n",
    "sequences = sequences[1:]\n",
    "\n",
    "lengths = [len(i) for i in sequences]\n",
    "\n",
    "print(\"Longest sequence: \" + str(max(lengths)))\n",
    "print(\"Shortest sequence: \" + str(min(lengths)))"
   ]
  },
  {
   "cell_type": "code",
   "execution_count": null,
   "metadata": {},
   "outputs": [],
   "source": []
  }
 ],
 "metadata": {
  "kernelspec": {
   "display_name": "Python 3",
   "language": "python",
   "name": "python3"
  },
  "language_info": {
   "codemirror_mode": {
    "name": "ipython",
    "version": 3
   },
   "file_extension": ".py",
   "mimetype": "text/x-python",
   "name": "python",
   "nbconvert_exporter": "python",
   "pygments_lexer": "ipython3",
   "version": "3.8.5"
  }
 },
 "nbformat": 4,
 "nbformat_minor": 4
}
